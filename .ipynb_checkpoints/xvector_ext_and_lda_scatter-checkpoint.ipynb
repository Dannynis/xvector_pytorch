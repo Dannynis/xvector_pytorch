{
 "cells": [
  {
   "cell_type": "code",
   "execution_count": null,
   "metadata": {},
   "outputs": [],
   "source": [
    "import dill"
   ]
  },
  {
   "cell_type": "code",
   "execution_count": 1,
   "metadata": {},
   "outputs": [],
   "source": [
    "from sklearn.discriminant_analysis import LinearDiscriminantAnalysis as LDA"
   ]
  },
  {
   "cell_type": "code",
   "execution_count": 18,
   "metadata": {},
   "outputs": [],
   "source": [
    "import matplotlib.pyplot as plt\n",
    "import pickle\n",
    "import numpy as np\n",
    "from mpl_toolkits.mplot3d import Axes3D\n",
    "import torch\n",
    "from scipy.io import wavfile\n",
    "from tqdm import tqdm\n",
    "from utils import *\n",
    "from python_speech_features import mfcc, logfbank\n"
   ]
  },
  {
   "cell_type": "code",
   "execution_count": 8,
   "metadata": {},
   "outputs": [],
   "source": [
    "net_xvec = torch.load('total_model')[:-1]"
   ]
  },
  {
   "cell_type": "code",
   "execution_count": 9,
   "metadata": {},
   "outputs": [
    {
     "data": {
      "text/plain": [
       "Sequential(\n",
       "  (0): TDNN()\n",
       "  (1): TDNN()\n",
       "  (2): TDNN()\n",
       "  (3): TDNN()\n",
       "  (4): TDNN()\n",
       "  (5): StatsPooling()\n",
       "  (6): FullyConnected(\n",
       "    (hidden1): Linear(in_features=3000, out_features=512, bias=True)\n",
       "    (hidden2): Linear(in_features=512, out_features=512, bias=True)\n",
       "  )\n",
       ")"
      ]
     },
     "execution_count": 9,
     "metadata": {},
     "output_type": "execute_result"
    }
   ],
   "source": [
    "net_xvec"
   ]
  },
  {
   "cell_type": "code",
   "execution_count": 10,
   "metadata": {},
   "outputs": [],
   "source": [
    "# net_xvec = nn.Sequential(net1,net2,net3,net4,net5,SP,FC)\n",
    "# net_xvec.cuda()"
   ]
  },
  {
   "cell_type": "code",
   "execution_count": 19,
   "metadata": {},
   "outputs": [
    {
     "name": "stderr",
     "output_type": "stream",
     "text": [
      "0it [00:00, ?it/s]WARNING:root:frame length (1103) is greater than FFT size (1024), frame will be truncated. Increase NFFT to avoid.\n",
      "1it [00:02,  2.01s/it]WARNING:root:frame length (1103) is greater than FFT size (1024), frame will be truncated. Increase NFFT to avoid.\n",
      "2it [00:03,  1.96s/it]WARNING:root:frame length (1103) is greater than FFT size (1024), frame will be truncated. Increase NFFT to avoid.\n",
      "3it [00:05,  1.93s/it]WARNING:root:frame length (1103) is greater than FFT size (1024), frame will be truncated. Increase NFFT to avoid.\n",
      "4it [00:07,  1.91s/it]\n"
     ]
    }
   ],
   "source": [
    "wav_path = r\"D:\\Downloads\\Lecture 1.2 — Introduction Supervised Learning — [ Machine Learning  Andrew Ng ].wav\"\n",
    "max_total_context_test = 400\n",
    "_min,_max = float('inf'),-float('inf')\n",
    "X_test = []\n",
    "rate, wav = wavfile.read(wav_path)\n",
    "for chunked_wav in tqdm(chunks(wav,int(len(wav)/4))):\n",
    "    X_sample = mfcc(chunked_wav,samplerate= rate,numcep=24\n",
    "           ,nfilt=26,nfft=1024)\n",
    "    _min = min(np.amin(X_sample),_min)\n",
    "    _max = max(np.amax(X_sample),_max)\n",
    "    for chunked_X_sample in list(chunks(X_sample,max_total_context_test)):\n",
    "            if len(chunked_X_sample) == max_total_context_test:\n",
    "                X_test.append(chunked_X_sample)\n",
    "X_test = (X_test - _min) / (_max-_min)\n"
   ]
  },
  {
   "cell_type": "code",
   "execution_count": 20,
   "metadata": {},
   "outputs": [
    {
     "data": {
      "text/plain": [
       "(372, 400, 24)"
      ]
     },
     "execution_count": 20,
     "metadata": {},
     "output_type": "execute_result"
    }
   ],
   "source": [
    "X_test.shape"
   ]
  },
  {
   "cell_type": "code",
   "execution_count": 21,
   "metadata": {},
   "outputs": [
    {
     "name": "stdout",
     "output_type": "stream",
     "text": [
      "mel size: 24\n",
      "sequence length: 400\n",
      "output shape: torch.Size([30, 396, 512])\n",
      "mel size: 512\n",
      "sequence length: 396\n",
      "output shape: torch.Size([30, 392, 512])\n",
      "mel size: 512\n",
      "sequence length: 392\n",
      "output shape: torch.Size([30, 386, 512])\n",
      "mel size: 512\n",
      "sequence length: 386\n",
      "output shape: torch.Size([30, 385, 512])\n",
      "mel size: 512\n",
      "sequence length: 385\n",
      "output shape: torch.Size([30, 384, 1500])\n"
     ]
    }
   ],
   "source": [
    "ng_outout = net_xvec(torch.tensor(X_test[200:230]).cuda())"
   ]
  },
  {
   "cell_type": "code",
   "execution_count": 22,
   "metadata": {},
   "outputs": [],
   "source": [
    "np_ng_output = ng_outout.cpu().detach().numpy()"
   ]
  },
  {
   "cell_type": "code",
   "execution_count": 23,
   "metadata": {},
   "outputs": [],
   "source": [
    "xvecs_collection = {0:[],1:[],2:[],3:[]}"
   ]
  },
  {
   "cell_type": "code",
   "execution_count": 24,
   "metadata": {},
   "outputs": [
    {
     "ename": "NameError",
     "evalue": "name 'trainloader' is not defined",
     "output_type": "error",
     "traceback": [
      "\u001b[1;31m---------------------------------------------------------------------------\u001b[0m",
      "\u001b[1;31mNameError\u001b[0m                                 Traceback (most recent call last)",
      "\u001b[1;32m<ipython-input-24-f92beef4f671>\u001b[0m in \u001b[0;36m<module>\u001b[1;34m\u001b[0m\n\u001b[0;32m      1\u001b[0m \u001b[1;33m\u001b[0m\u001b[0m\n\u001b[1;32m----> 2\u001b[1;33m \u001b[1;32mfor\u001b[0m \u001b[0mi\u001b[0m\u001b[1;33m,\u001b[0m \u001b[0mdata\u001b[0m \u001b[1;32min\u001b[0m \u001b[0menumerate\u001b[0m\u001b[1;33m(\u001b[0m\u001b[0mtrainloader\u001b[0m\u001b[1;33m,\u001b[0m \u001b[1;36m0\u001b[0m\u001b[1;33m)\u001b[0m\u001b[1;33m:\u001b[0m\u001b[1;33m\u001b[0m\u001b[1;33m\u001b[0m\u001b[0m\n\u001b[0m\u001b[0;32m      3\u001b[0m     \u001b[0ma\u001b[0m \u001b[1;33m=\u001b[0m \u001b[0mtime\u001b[0m\u001b[1;33m.\u001b[0m\u001b[0mtime\u001b[0m\u001b[1;33m(\u001b[0m\u001b[1;33m)\u001b[0m\u001b[1;33m\u001b[0m\u001b[1;33m\u001b[0m\u001b[0m\n\u001b[0;32m      4\u001b[0m     \u001b[1;31m# get the inputs; data is a list of [inputs, labels]\u001b[0m\u001b[1;33m\u001b[0m\u001b[1;33m\u001b[0m\u001b[1;33m\u001b[0m\u001b[0m\n\u001b[0;32m      5\u001b[0m     \u001b[0minputs\u001b[0m\u001b[1;33m,\u001b[0m \u001b[0mlabels\u001b[0m \u001b[1;33m=\u001b[0m \u001b[0mdata\u001b[0m\u001b[1;33m\u001b[0m\u001b[1;33m\u001b[0m\u001b[0m\n",
      "\u001b[1;31mNameError\u001b[0m: name 'trainloader' is not defined"
     ]
    }
   ],
   "source": [
    "\n",
    "# for i, data in enumerate(trainloader, 0):\n",
    "#     a = time.time()\n",
    "#     # get the inputs; data is a list of [inputs, labels]\n",
    "#     inputs, labels = data\n",
    "#     inputs, labels = inputs.cuda(), labels.cuda()\n",
    "#     output= net_xvec(inputs).cuda()\n",
    "#     for j,out in enumerate(output):\n",
    "#         index_to_append = int(torch.argmax(labels[j]))\n",
    "#         xvecs_collection[index_to_append].append(out.detach().cpu().numpy())\n",
    "#         print ('appending to {}'.format(index_to_append))"
   ]
  },
  {
   "cell_type": "code",
   "execution_count": 25,
   "metadata": {},
   "outputs": [],
   "source": [
    "with open(r\"D:\\ml+dl+dsp\\xvector\\celebs_xvectors\",'rb') as f:\n",
    "    xvecs_collection= pickle.load(f)"
   ]
  },
  {
   "cell_type": "code",
   "execution_count": 26,
   "metadata": {},
   "outputs": [],
   "source": [
    "clases = ['Trump','Macron','Gaga','Clinton','Andrew_ng']"
   ]
  },
  {
   "cell_type": "code",
   "execution_count": 27,
   "metadata": {},
   "outputs": [],
   "source": [
    "lda = LDA(n_components=3)"
   ]
  },
  {
   "cell_type": "code",
   "execution_count": 28,
   "metadata": {},
   "outputs": [],
   "source": [
    "X = []\n",
    "y = []\n",
    "for class_num in range(len(xvecs_collection)):\n",
    "    for item in xvecs_collection[class_num]:\n",
    "        X.append(item)\n",
    "        y.append(class_num)"
   ]
  },
  {
   "cell_type": "code",
   "execution_count": 29,
   "metadata": {},
   "outputs": [],
   "source": [
    "## Add untrained andrew ng to the test set\n",
    "for item in np_ng_output:\n",
    "    X.append(item)\n",
    "    y.append(4)"
   ]
  },
  {
   "cell_type": "code",
   "execution_count": 30,
   "metadata": {},
   "outputs": [
    {
     "name": "stderr",
     "output_type": "stream",
     "text": [
      "C:\\Users\\Daniel\\.conda\\envs\\pytorch\\lib\\site-packages\\sklearn\\discriminant_analysis.py:388: UserWarning: Variables are collinear.\n",
      "  warnings.warn(\"Variables are collinear.\")\n"
     ]
    }
   ],
   "source": [
    "lda_model = lda.fit(X,y)"
   ]
  },
  {
   "cell_type": "code",
   "execution_count": 31,
   "metadata": {},
   "outputs": [],
   "source": [
    "transformed_X= lda_model.transform(X)"
   ]
  },
  {
   "cell_type": "code",
   "execution_count": 32,
   "metadata": {},
   "outputs": [],
   "source": [
    "clases_dict = {0:[],1:[],2:[],3:[],4:[]}"
   ]
  },
  {
   "cell_type": "code",
   "execution_count": 33,
   "metadata": {},
   "outputs": [],
   "source": [
    "for i,x in enumerate(transformed_X):\n",
    "    clases_dict[y[i]].append(x)"
   ]
  },
  {
   "cell_type": "code",
   "execution_count": 34,
   "metadata": {},
   "outputs": [
    {
     "data": {
      "text/plain": [
       "<matplotlib.legend.Legend at 0x28fadd558d0>"
      ]
     },
     "execution_count": 34,
     "metadata": {},
     "output_type": "execute_result"
    },
    {
     "data": {
      "image/png": "[encoded data removed]",
      "text/plain": [
       "<Figure size 432x288 with 1 Axes>"
      ]
     },
     "metadata": {
      "needs_background": "light"
     },
     "output_type": "display_data"
    }
   ],
   "source": [
    "for index in clases_dict:\n",
    "    plt.scatter(np.array(clases_dict[index])[:,0],np.array(clases_dict[index])[:,1])\n",
    "plt.legend(clases)"
   ]
  },
  {
   "cell_type": "code",
   "execution_count": 35,
   "metadata": {},
   "outputs": [
    {
     "data": {
      "text/plain": [
       "<matplotlib.legend.Legend at 0x28fadd12550>"
      ]
     },
     "execution_count": 35,
     "metadata": {},
     "output_type": "execute_result"
    },
    {
     "data": {
      "image/png": "[encoded data removed]",
      "text/plain": [
       "<Figure size 432x288 with 1 Axes>"
      ]
     },
     "metadata": {
      "needs_background": "light"
     },
     "output_type": "display_data"
    }
   ],
   "source": [
    "fig = plt.figure()\n",
    "ax = Axes3D(fig)\n",
    "for index in clases_dict:\n",
    "    ax.scatter(np.array(clases_dict[index])[:,0],np.array(clases_dict[index])[:,1],np.array(clases_dict[index])[:,2])\n",
    "plt.legend(clases)"
   ]
  },
  {
   "cell_type": "code",
   "execution_count": null,
   "metadata": {},
   "outputs": [],
   "source": []
  }
 ],
 "metadata": {
  "kernelspec": {
   "display_name": "Python 3",
   "language": "python",
   "name": "python3"
  },
  "language_info": {
   "codemirror_mode": {
    "name": "ipython",
    "version": 3
   },
   "file_extension": ".py",
   "mimetype": "text/x-python",
   "name": "python",
   "nbconvert_exporter": "python",
   "pygments_lexer": "ipython3",
   "version": "3.6.8"
  }
 },
 "nbformat": 4,
 "nbformat_minor": 2
}
